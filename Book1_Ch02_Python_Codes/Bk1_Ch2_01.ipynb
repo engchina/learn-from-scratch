{
 "cells": [
  {
   "cell_type": "markdown",
   "id": "de2a6ce1-7094-4915-a731-b2fe74c605d3",
   "metadata": {},
   "source": [
    "Chapter 02\n",
    "# 检查常用Python库版本号\n",
    "Book_1《编程不难》 | 鸢尾花书：从加减乘除到机器学习  "
   ]
  },
  {
   "cell_type": "code",
   "id": "7f52478c-5e6e-4d1c-8ffc-07ded926579a",
   "metadata": {
    "ExecuteTime": {
     "end_time": "2024-11-28T14:54:54.774096Z",
     "start_time": "2024-11-28T14:54:54.648149Z"
    }
   },
   "source": [
    "# 检查常用Python库版本号\n",
    "import scipy\n",
    "print('scipy: %s' % scipy.__version__)"
   ],
   "outputs": [
    {
     "name": "stdout",
     "output_type": "stream",
     "text": [
      "scipy: 1.14.1\n"
     ]
    }
   ],
   "execution_count": 1
  },
  {
   "cell_type": "code",
   "id": "78c85f83-05a8-491c-b88a-998278e8de8b",
   "metadata": {
    "ExecuteTime": {
     "end_time": "2024-11-28T14:54:56.779981Z",
     "start_time": "2024-11-28T14:54:56.777483Z"
    }
   },
   "source": [
    "import numpy\n",
    "print('numpy: %s' % numpy.__version__)"
   ],
   "outputs": [
    {
     "name": "stdout",
     "output_type": "stream",
     "text": [
      "numpy: 2.1.3\n"
     ]
    }
   ],
   "execution_count": 2
  },
  {
   "cell_type": "code",
   "id": "5e067ca8-addc-4640-9156-8db92ddd9088",
   "metadata": {
    "ExecuteTime": {
     "end_time": "2024-11-28T14:54:57.683005Z",
     "start_time": "2024-11-28T14:54:57.599493Z"
    }
   },
   "source": [
    "import matplotlib\n",
    "print('matplotlib: %s' % matplotlib.__version__)"
   ],
   "outputs": [
    {
     "name": "stdout",
     "output_type": "stream",
     "text": [
      "matplotlib: 3.9.2\n"
     ]
    }
   ],
   "execution_count": 3
  },
  {
   "cell_type": "code",
   "id": "99926197-8a9d-486c-a6d7-fd092eda42c8",
   "metadata": {
    "ExecuteTime": {
     "end_time": "2024-11-28T14:54:58.905079Z",
     "start_time": "2024-11-28T14:54:58.694214Z"
    }
   },
   "source": [
    "import pandas\n",
    "print('pandas: %s' % pandas.__version__)"
   ],
   "outputs": [
    {
     "name": "stdout",
     "output_type": "stream",
     "text": [
      "pandas: 2.2.3\n"
     ]
    }
   ],
   "execution_count": 4
  },
  {
   "cell_type": "code",
   "id": "4c88c22b-f884-4045-b589-e24a7caf8cff",
   "metadata": {
    "ExecuteTime": {
     "end_time": "2024-11-28T14:54:59.900798Z",
     "start_time": "2024-11-28T14:54:59.692709Z"
    }
   },
   "source": [
    "import statsmodels\n",
    "print('statsmodels: %s' % statsmodels.__version__)"
   ],
   "outputs": [
    {
     "name": "stdout",
     "output_type": "stream",
     "text": [
      "statsmodels: 0.14.4\n"
     ]
    }
   ],
   "execution_count": 5
  },
  {
   "cell_type": "code",
   "id": "c1dd83ff-f8a7-4cc6-b146-942eca594e84",
   "metadata": {
    "ExecuteTime": {
     "end_time": "2024-11-28T14:55:55.883259Z",
     "start_time": "2024-11-28T14:55:55.318319Z"
    }
   },
   "source": [
    "import sklearn\n",
    "print('sklearn: %s' % sklearn.__version__)"
   ],
   "outputs": [
    {
     "name": "stdout",
     "output_type": "stream",
     "text": [
      "sklearn: 1.5.2\n"
     ]
    }
   ],
   "execution_count": 1
  },
  {
   "metadata": {},
   "cell_type": "code",
   "outputs": [],
   "execution_count": null,
   "source": "",
   "id": "d666f64e1d8dadca"
  }
 ],
 "metadata": {
  "kernelspec": {
   "display_name": "Python 3 (ipykernel)",
   "language": "python",
   "name": "python3"
  },
  "language_info": {
   "codemirror_mode": {
    "name": "ipython",
    "version": 3
   },
   "file_extension": ".py",
   "mimetype": "text/x-python",
   "name": "python",
   "nbconvert_exporter": "python",
   "pygments_lexer": "ipython3",
   "version": "3.10.9"
  }
 },
 "nbformat": 4,
 "nbformat_minor": 5
}
